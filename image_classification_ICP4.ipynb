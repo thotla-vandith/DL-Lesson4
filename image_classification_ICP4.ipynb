{
  "nbformat": 4,
  "nbformat_minor": 0,
  "metadata": {
    "colab": {
      "name": "image_classification_ICP4.ipynb",
      "provenance": [],
      "collapsed_sections": []
    },
    "kernelspec": {
      "name": "python3",
      "display_name": "Python 3"
    },
    "accelerator": "GPU"
  },
  "cells": [
    {
      "cell_type": "markdown",
      "metadata": {
        "id": "pWnbnDd1AqwK",
        "colab_type": "text"
      },
      "source": [
        "#### Simple CNN model for CIFAR-10\n"
      ]
    },
    {
      "cell_type": "code",
      "metadata": {
        "id": "iYpSkpfkAJ9c",
        "colab_type": "code",
        "outputId": "5b6a5997-adc8-44b9-e812-a67dcfe53f68",
        "colab": {
          "base_uri": "https://localhost:8080/",
          "height": 34
        }
      },
      "source": [
        "import numpy\n",
        "from keras.datasets import cifar10\n",
        "from keras.models import Sequential\n",
        "from keras.layers import Dense, Flatten, Dropout, Input, BatchNormalization\n",
        "from keras.constraints import maxnorm\n",
        "from keras.models import Model\n",
        "from keras.optimizers import SGD, Adam\n",
        "from keras.layers.convolutional import Conv2D, MaxPooling2D\n",
        "from keras.utils import np_utils\n",
        "from keras import backend as K\n",
        "K.common.image_dim_ordering()"
      ],
      "execution_count": 23,
      "outputs": [
        {
          "output_type": "execute_result",
          "data": {
            "text/plain": [
              "'tf'"
            ]
          },
          "metadata": {
            "tags": []
          },
          "execution_count": 23
        }
      ]
    },
    {
      "cell_type": "markdown",
      "metadata": {
        "id": "DFTE1CTiAu8i",
        "colab_type": "text"
      },
      "source": [
        "##### Fixing random seed for reproducibility"
      ]
    },
    {
      "cell_type": "code",
      "metadata": {
        "id": "CwrqU_rIAjIf",
        "colab_type": "code",
        "colab": {}
      },
      "source": [
        "seed = 7\n",
        "numpy.random.seed(seed)"
      ],
      "execution_count": 0,
      "outputs": []
    },
    {
      "cell_type": "markdown",
      "metadata": {
        "id": "GJpsavCTA0Dj",
        "colab_type": "text"
      },
      "source": [
        "##### Loading the data"
      ]
    },
    {
      "cell_type": "code",
      "metadata": {
        "id": "QCOqhYJqAxmj",
        "colab_type": "code",
        "colab": {}
      },
      "source": [
        "(X_train, y_train), (X_test, y_test) = cifar10.load_data()"
      ],
      "execution_count": 0,
      "outputs": []
    },
    {
      "cell_type": "markdown",
      "metadata": {
        "id": "knMRFaZUBL8r",
        "colab_type": "text"
      },
      "source": [
        "Normalizing inputs from 0-255 to 0.0-1.0"
      ]
    },
    {
      "cell_type": "code",
      "metadata": {
        "id": "7YH35TxjBJIH",
        "colab_type": "code",
        "colab": {}
      },
      "source": [
        "X_train = X_train.astype('float32')\n",
        "X_test = X_test.astype('float32')\n",
        "X_train = X_train / 255.0\n",
        "X_test = X_test / 255.0\n",
        "yp=y_test"
      ],
      "execution_count": 0,
      "outputs": []
    },
    {
      "cell_type": "markdown",
      "metadata": {
        "id": "XIVTFI4SBTTU",
        "colab_type": "text"
      },
      "source": [
        "Onehot encode outputs"
      ]
    },
    {
      "cell_type": "code",
      "metadata": {
        "id": "1ZqCaDjUBTwl",
        "colab_type": "code",
        "colab": {}
      },
      "source": [
        "y_train = np_utils.to_categorical(y_train)\n",
        "y_test = np_utils.to_categorical(y_test)\n",
        "num_classes = y_test.shape[1]"
      ],
      "execution_count": 0,
      "outputs": []
    },
    {
      "cell_type": "markdown",
      "metadata": {
        "id": "9PXbifxcBXdv",
        "colab_type": "text"
      },
      "source": [
        "Create the model"
      ]
    },
    {
      "cell_type": "code",
      "metadata": {
        "id": "42jnKJGpBV-I",
        "colab_type": "code",
        "colab": {}
      },
      "source": [
        "model = Sequential()\n",
        "model.add(Conv2D(128, (3, 3), input_shape=(X_train.shape[1:]), padding='same', activation='relu'))\n",
        "model.add(Dropout(0.5))\n",
        "model.add(Conv2D(256, (3, 3), activation='relu', padding='same'))\n",
        "model.add(MaxPooling2D(pool_size=(2, 2)))\n",
        "model.add(Dropout(0.5))\n",
        "model.add(Flatten())\n",
        "model.add(Dense(512, activation='relu', kernel_constraint=maxnorm(3)))\n",
        "model.add(Dropout(0.3))\n",
        "model.add(Dense(num_classes, activation='softmax'))"
      ],
      "execution_count": 0,
      "outputs": []
    },
    {
      "cell_type": "markdown",
      "metadata": {
        "id": "Agtcn0FvBc50",
        "colab_type": "text"
      },
      "source": [
        "Compile the model"
      ]
    },
    {
      "cell_type": "code",
      "metadata": {
        "id": "mU0e5-U7Ba2q",
        "colab_type": "code",
        "colab": {}
      },
      "source": [
        "epochs = 70\n",
        "lrate = 0.001\n",
        "decay = lrate/epochs\n",
        "sgd = Adam(lr=lrate)\n",
        "model.compile(loss='categorical_crossentropy', optimizer=sgd, metrics=['accuracy'])"
      ],
      "execution_count": 0,
      "outputs": []
    },
    {
      "cell_type": "code",
      "metadata": {
        "id": "jPAxsGBWBgPL",
        "colab_type": "code",
        "outputId": "96ef1317-f39a-46c9-a766-85f52cbd69bc",
        "colab": {
          "base_uri": "https://localhost:8080/",
          "height": 496
        }
      },
      "source": [
        "print(model.summary())"
      ],
      "execution_count": 30,
      "outputs": [
        {
          "output_type": "stream",
          "text": [
            "Model: \"sequential_4\"\n",
            "_________________________________________________________________\n",
            "Layer (type)                 Output Shape              Param #   \n",
            "=================================================================\n",
            "conv2d_7 (Conv2D)            (None, 32, 32, 128)       3584      \n",
            "_________________________________________________________________\n",
            "dropout_10 (Dropout)         (None, 32, 32, 128)       0         \n",
            "_________________________________________________________________\n",
            "conv2d_8 (Conv2D)            (None, 32, 32, 256)       295168    \n",
            "_________________________________________________________________\n",
            "max_pooling2d_4 (MaxPooling2 (None, 16, 16, 256)       0         \n",
            "_________________________________________________________________\n",
            "dropout_11 (Dropout)         (None, 16, 16, 256)       0         \n",
            "_________________________________________________________________\n",
            "flatten_4 (Flatten)          (None, 65536)             0         \n",
            "_________________________________________________________________\n",
            "dense_7 (Dense)              (None, 512)               33554944  \n",
            "_________________________________________________________________\n",
            "dropout_12 (Dropout)         (None, 512)               0         \n",
            "_________________________________________________________________\n",
            "dense_8 (Dense)              (None, 10)                5130      \n",
            "=================================================================\n",
            "Total params: 33,858,826\n",
            "Trainable params: 33,858,826\n",
            "Non-trainable params: 0\n",
            "_________________________________________________________________\n",
            "None\n"
          ],
          "name": "stdout"
        }
      ]
    },
    {
      "cell_type": "markdown",
      "metadata": {
        "id": "vI3s6IHMBogK",
        "colab_type": "text"
      },
      "source": [
        "Fit the model"
      ]
    },
    {
      "cell_type": "code",
      "metadata": {
        "id": "hFS521-iBh-n",
        "colab_type": "code",
        "outputId": "3cf07807-efe3-4d47-a26f-e144d278d42e",
        "colab": {
          "base_uri": "https://localhost:8080/",
          "height": 1000
        }
      },
      "source": [
        "model.fit(X_train, y_train, validation_data=(X_test, y_test), epochs=epochs, batch_size=128)"
      ],
      "execution_count": 31,
      "outputs": [
        {
          "output_type": "stream",
          "text": [
            "Train on 50000 samples, validate on 10000 samples\n",
            "Epoch 1/70\n",
            "50000/50000 [==============================] - 52s 1ms/step - loss: 1.7218 - accuracy: 0.3730 - val_loss: 1.3226 - val_accuracy: 0.5221\n",
            "Epoch 2/70\n",
            "50000/50000 [==============================] - 45s 902us/step - loss: 1.3296 - accuracy: 0.5241 - val_loss: 1.1776 - val_accuracy: 0.5795\n",
            "Epoch 3/70\n",
            "50000/50000 [==============================] - 45s 901us/step - loss: 1.2075 - accuracy: 0.5685 - val_loss: 1.0956 - val_accuracy: 0.6090\n",
            "Epoch 4/70\n",
            "50000/50000 [==============================] - 45s 903us/step - loss: 1.1141 - accuracy: 0.6038 - val_loss: 1.0502 - val_accuracy: 0.6351\n",
            "Epoch 5/70\n",
            "50000/50000 [==============================] - 45s 903us/step - loss: 1.0454 - accuracy: 0.6309 - val_loss: 0.9745 - val_accuracy: 0.6558\n",
            "Epoch 6/70\n",
            "50000/50000 [==============================] - 45s 903us/step - loss: 0.9806 - accuracy: 0.6505 - val_loss: 0.9337 - val_accuracy: 0.6723\n",
            "Epoch 7/70\n",
            "50000/50000 [==============================] - 45s 903us/step - loss: 0.9291 - accuracy: 0.6722 - val_loss: 0.9105 - val_accuracy: 0.6831\n",
            "Epoch 8/70\n",
            "50000/50000 [==============================] - 45s 905us/step - loss: 0.8991 - accuracy: 0.6802 - val_loss: 0.8950 - val_accuracy: 0.6888\n",
            "Epoch 9/70\n",
            "50000/50000 [==============================] - 45s 905us/step - loss: 0.8565 - accuracy: 0.6952 - val_loss: 0.8504 - val_accuracy: 0.7008\n",
            "Epoch 10/70\n",
            "50000/50000 [==============================] - 45s 903us/step - loss: 0.8271 - accuracy: 0.7072 - val_loss: 0.8560 - val_accuracy: 0.7004\n",
            "Epoch 11/70\n",
            "50000/50000 [==============================] - 45s 904us/step - loss: 0.7954 - accuracy: 0.7178 - val_loss: 0.8378 - val_accuracy: 0.7039\n",
            "Epoch 12/70\n",
            "50000/50000 [==============================] - 45s 904us/step - loss: 0.7729 - accuracy: 0.7266 - val_loss: 0.8383 - val_accuracy: 0.7038\n",
            "Epoch 13/70\n",
            "50000/50000 [==============================] - 45s 904us/step - loss: 0.7552 - accuracy: 0.7321 - val_loss: 0.8622 - val_accuracy: 0.6965\n",
            "Epoch 14/70\n",
            "50000/50000 [==============================] - 45s 905us/step - loss: 0.7373 - accuracy: 0.7395 - val_loss: 0.8192 - val_accuracy: 0.7159\n",
            "Epoch 15/70\n",
            "50000/50000 [==============================] - 45s 905us/step - loss: 0.7089 - accuracy: 0.7497 - val_loss: 0.8044 - val_accuracy: 0.7170\n",
            "Epoch 16/70\n",
            "50000/50000 [==============================] - 45s 905us/step - loss: 0.7009 - accuracy: 0.7512 - val_loss: 0.7900 - val_accuracy: 0.7252\n",
            "Epoch 17/70\n",
            "50000/50000 [==============================] - 45s 903us/step - loss: 0.6833 - accuracy: 0.7570 - val_loss: 0.8108 - val_accuracy: 0.7189\n",
            "Epoch 18/70\n",
            "50000/50000 [==============================] - 45s 904us/step - loss: 0.6650 - accuracy: 0.7654 - val_loss: 0.7976 - val_accuracy: 0.7201\n",
            "Epoch 19/70\n",
            "50000/50000 [==============================] - 45s 905us/step - loss: 0.6490 - accuracy: 0.7698 - val_loss: 0.7940 - val_accuracy: 0.7210\n",
            "Epoch 20/70\n",
            "50000/50000 [==============================] - 45s 906us/step - loss: 0.6358 - accuracy: 0.7726 - val_loss: 0.7912 - val_accuracy: 0.7236\n",
            "Epoch 21/70\n",
            "50000/50000 [==============================] - 45s 905us/step - loss: 0.6242 - accuracy: 0.7766 - val_loss: 0.7887 - val_accuracy: 0.7251\n",
            "Epoch 22/70\n",
            "50000/50000 [==============================] - 45s 906us/step - loss: 0.6104 - accuracy: 0.7836 - val_loss: 0.7834 - val_accuracy: 0.7245\n",
            "Epoch 23/70\n",
            "50000/50000 [==============================] - 45s 905us/step - loss: 0.6007 - accuracy: 0.7891 - val_loss: 0.7970 - val_accuracy: 0.7209\n",
            "Epoch 24/70\n",
            "50000/50000 [==============================] - 45s 904us/step - loss: 0.5989 - accuracy: 0.7868 - val_loss: 0.8009 - val_accuracy: 0.7233\n",
            "Epoch 25/70\n",
            "50000/50000 [==============================] - 45s 905us/step - loss: 0.5979 - accuracy: 0.7900 - val_loss: 0.7958 - val_accuracy: 0.7234\n",
            "Epoch 26/70\n",
            "50000/50000 [==============================] - 45s 905us/step - loss: 0.5828 - accuracy: 0.7912 - val_loss: 0.7792 - val_accuracy: 0.7273\n",
            "Epoch 27/70\n",
            "50000/50000 [==============================] - 45s 905us/step - loss: 0.5738 - accuracy: 0.7965 - val_loss: 0.7886 - val_accuracy: 0.7286\n",
            "Epoch 28/70\n",
            "50000/50000 [==============================] - 45s 905us/step - loss: 0.5653 - accuracy: 0.7991 - val_loss: 0.7743 - val_accuracy: 0.7343\n",
            "Epoch 29/70\n",
            "50000/50000 [==============================] - 45s 905us/step - loss: 0.5542 - accuracy: 0.8044 - val_loss: 0.8026 - val_accuracy: 0.7264\n",
            "Epoch 30/70\n",
            "50000/50000 [==============================] - 45s 904us/step - loss: 0.5537 - accuracy: 0.8034 - val_loss: 0.7863 - val_accuracy: 0.7327\n",
            "Epoch 31/70\n",
            "50000/50000 [==============================] - 45s 905us/step - loss: 0.5436 - accuracy: 0.8093 - val_loss: 0.7826 - val_accuracy: 0.7304\n",
            "Epoch 32/70\n",
            "50000/50000 [==============================] - 45s 905us/step - loss: 0.5394 - accuracy: 0.8095 - val_loss: 0.7857 - val_accuracy: 0.7260\n",
            "Epoch 33/70\n",
            "50000/50000 [==============================] - 45s 906us/step - loss: 0.5319 - accuracy: 0.8119 - val_loss: 0.7703 - val_accuracy: 0.7328\n",
            "Epoch 34/70\n",
            "50000/50000 [==============================] - 45s 905us/step - loss: 0.5307 - accuracy: 0.8148 - val_loss: 0.7821 - val_accuracy: 0.7318\n",
            "Epoch 35/70\n",
            "50000/50000 [==============================] - 45s 906us/step - loss: 0.5385 - accuracy: 0.8114 - val_loss: 0.7744 - val_accuracy: 0.7374\n",
            "Epoch 36/70\n",
            "50000/50000 [==============================] - 45s 906us/step - loss: 0.5395 - accuracy: 0.8080 - val_loss: 0.7834 - val_accuracy: 0.7318\n",
            "Epoch 37/70\n",
            "50000/50000 [==============================] - 45s 905us/step - loss: 0.5430 - accuracy: 0.8097 - val_loss: 0.8058 - val_accuracy: 0.7217\n",
            "Epoch 38/70\n",
            "50000/50000 [==============================] - 45s 904us/step - loss: 0.5351 - accuracy: 0.8101 - val_loss: 0.7763 - val_accuracy: 0.7372\n",
            "Epoch 39/70\n",
            "50000/50000 [==============================] - 45s 907us/step - loss: 0.5339 - accuracy: 0.8121 - val_loss: 0.7865 - val_accuracy: 0.7325\n",
            "Epoch 40/70\n",
            "50000/50000 [==============================] - 45s 904us/step - loss: 0.5300 - accuracy: 0.8116 - val_loss: 0.7803 - val_accuracy: 0.7370\n",
            "Epoch 41/70\n",
            "50000/50000 [==============================] - 45s 904us/step - loss: 0.5220 - accuracy: 0.8164 - val_loss: 0.7762 - val_accuracy: 0.7387\n",
            "Epoch 42/70\n",
            "50000/50000 [==============================] - 45s 903us/step - loss: 0.5188 - accuracy: 0.8172 - val_loss: 0.7853 - val_accuracy: 0.7342\n",
            "Epoch 43/70\n",
            "50000/50000 [==============================] - 45s 904us/step - loss: 0.5104 - accuracy: 0.8206 - val_loss: 0.8001 - val_accuracy: 0.7345\n",
            "Epoch 44/70\n",
            "50000/50000 [==============================] - 45s 903us/step - loss: 0.5037 - accuracy: 0.8216 - val_loss: 0.7792 - val_accuracy: 0.7349\n",
            "Epoch 45/70\n",
            "50000/50000 [==============================] - 45s 902us/step - loss: 0.5080 - accuracy: 0.8216 - val_loss: 0.7778 - val_accuracy: 0.7361\n",
            "Epoch 46/70\n",
            "50000/50000 [==============================] - 45s 902us/step - loss: 0.5005 - accuracy: 0.8232 - val_loss: 0.7664 - val_accuracy: 0.7395\n",
            "Epoch 47/70\n",
            "50000/50000 [==============================] - 45s 905us/step - loss: 0.4953 - accuracy: 0.8261 - val_loss: 0.7724 - val_accuracy: 0.7389\n",
            "Epoch 48/70\n",
            "50000/50000 [==============================] - 45s 906us/step - loss: 0.4848 - accuracy: 0.8323 - val_loss: 0.7722 - val_accuracy: 0.7336\n",
            "Epoch 49/70\n",
            "50000/50000 [==============================] - 45s 905us/step - loss: 0.4843 - accuracy: 0.8297 - val_loss: 0.7689 - val_accuracy: 0.7402\n",
            "Epoch 50/70\n",
            "50000/50000 [==============================] - 45s 907us/step - loss: 0.4904 - accuracy: 0.8307 - val_loss: 0.7599 - val_accuracy: 0.7430\n",
            "Epoch 51/70\n",
            "50000/50000 [==============================] - 45s 903us/step - loss: 0.4780 - accuracy: 0.8319 - val_loss: 0.7599 - val_accuracy: 0.7418\n",
            "Epoch 52/70\n",
            "50000/50000 [==============================] - 45s 903us/step - loss: 0.4754 - accuracy: 0.8334 - val_loss: 0.7736 - val_accuracy: 0.7405\n",
            "Epoch 53/70\n",
            "50000/50000 [==============================] - 45s 905us/step - loss: 0.4764 - accuracy: 0.8330 - val_loss: 0.7630 - val_accuracy: 0.7447\n",
            "Epoch 54/70\n",
            "50000/50000 [==============================] - 45s 904us/step - loss: 0.4758 - accuracy: 0.8359 - val_loss: 0.7709 - val_accuracy: 0.7360\n",
            "Epoch 55/70\n",
            "50000/50000 [==============================] - 45s 904us/step - loss: 0.4753 - accuracy: 0.8337 - val_loss: 0.7661 - val_accuracy: 0.7411\n",
            "Epoch 56/70\n",
            "50000/50000 [==============================] - 45s 905us/step - loss: 0.4822 - accuracy: 0.8312 - val_loss: 0.7739 - val_accuracy: 0.7369\n",
            "Epoch 57/70\n",
            "50000/50000 [==============================] - 45s 905us/step - loss: 0.4722 - accuracy: 0.8335 - val_loss: 0.7734 - val_accuracy: 0.7363\n",
            "Epoch 58/70\n",
            "50000/50000 [==============================] - 45s 905us/step - loss: 0.4729 - accuracy: 0.8325 - val_loss: 0.7794 - val_accuracy: 0.7402\n",
            "Epoch 59/70\n",
            "50000/50000 [==============================] - 45s 904us/step - loss: 0.4767 - accuracy: 0.8342 - val_loss: 0.7609 - val_accuracy: 0.7423\n",
            "Epoch 60/70\n",
            "50000/50000 [==============================] - 45s 904us/step - loss: 0.4708 - accuracy: 0.8342 - val_loss: 0.7713 - val_accuracy: 0.7387\n",
            "Epoch 61/70\n",
            "50000/50000 [==============================] - 45s 904us/step - loss: 0.4607 - accuracy: 0.8388 - val_loss: 0.7650 - val_accuracy: 0.7460\n",
            "Epoch 62/70\n",
            "50000/50000 [==============================] - 45s 903us/step - loss: 0.4665 - accuracy: 0.8373 - val_loss: 0.7807 - val_accuracy: 0.7364\n",
            "Epoch 63/70\n",
            "50000/50000 [==============================] - 45s 905us/step - loss: 0.4681 - accuracy: 0.8362 - val_loss: 0.7666 - val_accuracy: 0.7414\n",
            "Epoch 64/70\n",
            "50000/50000 [==============================] - 45s 903us/step - loss: 0.4620 - accuracy: 0.8382 - val_loss: 0.7900 - val_accuracy: 0.7321\n",
            "Epoch 65/70\n",
            "50000/50000 [==============================] - 45s 903us/step - loss: 0.4639 - accuracy: 0.8384 - val_loss: 0.7645 - val_accuracy: 0.7446\n",
            "Epoch 66/70\n",
            "50000/50000 [==============================] - 45s 903us/step - loss: 0.4466 - accuracy: 0.8431 - val_loss: 0.7765 - val_accuracy: 0.7356\n",
            "Epoch 67/70\n",
            "50000/50000 [==============================] - 45s 903us/step - loss: 0.4593 - accuracy: 0.8406 - val_loss: 0.7496 - val_accuracy: 0.7474\n",
            "Epoch 68/70\n",
            "50000/50000 [==============================] - 45s 903us/step - loss: 0.4516 - accuracy: 0.8405 - val_loss: 0.7689 - val_accuracy: 0.7406\n",
            "Epoch 69/70\n",
            "50000/50000 [==============================] - 45s 903us/step - loss: 0.4544 - accuracy: 0.8431 - val_loss: 0.7587 - val_accuracy: 0.7421\n",
            "Epoch 70/70\n",
            "50000/50000 [==============================] - 45s 904us/step - loss: 0.4539 - accuracy: 0.8404 - val_loss: 0.7703 - val_accuracy: 0.7405\n"
          ],
          "name": "stdout"
        },
        {
          "output_type": "execute_result",
          "data": {
            "text/plain": [
              "<keras.callbacks.callbacks.History at 0x7fccc025fe48>"
            ]
          },
          "metadata": {
            "tags": []
          },
          "execution_count": 31
        }
      ]
    },
    {
      "cell_type": "markdown",
      "metadata": {
        "id": "b5c_zYozCLFF",
        "colab_type": "text"
      },
      "source": [
        "Final evaluation of the model"
      ]
    },
    {
      "cell_type": "code",
      "metadata": {
        "id": "j7l-gnT2Bt1O",
        "colab_type": "code",
        "outputId": "aa32cf37-d4fe-47b2-f909-f288eccaa8c6",
        "colab": {
          "base_uri": "https://localhost:8080/",
          "height": 34
        }
      },
      "source": [
        "scores = model.evaluate(X_test, y_test, verbose=0)\n",
        "print(\"Accuracy: %.2f%%\" % (scores[1]*100))"
      ],
      "execution_count": 32,
      "outputs": [
        {
          "output_type": "stream",
          "text": [
            "Accuracy: 74.05%\n"
          ],
          "name": "stdout"
        }
      ]
    },
    {
      "cell_type": "markdown",
      "metadata": {
        "id": "3v7BRkdtCmXj",
        "colab_type": "text"
      },
      "source": [
        "1. Performance Change"
      ]
    },
    {
      "cell_type": "code",
      "metadata": {
        "id": "uf5oKALjCOoY",
        "colab_type": "code",
        "colab": {}
      },
      "source": [
        "m1 = Sequential()\n",
        "m1.add(Conv2D(32, (3, 3), input_shape=(X_train.shape[1:]), padding='same', activation='relu'))\n",
        "m1.add(Dropout(0.2))\n",
        "m1.add(Conv2D(32, (3, 3), activation='relu', padding='same'))\n",
        "m1.add(MaxPooling2D(pool_size=(2, 2)))\n",
        "m1.add(Conv2D(64, (3, 3), activation='relu', padding='same'))\n",
        "m1.add(Dropout(0.2))\n",
        "m1.add(Conv2D(64, (3, 3), activation='relu', padding='same'))\n",
        "m1.add(MaxPooling2D(pool_size=(2, 2)))\n",
        "m1.add(Conv2D(128, (3, 3), activation='relu', padding='same'))\n",
        "m1.add(Dropout(0.2))\n",
        "m1.add(Conv2D(128, (3, 3), activation='relu', padding='same'))\n",
        "m1.add(MaxPooling2D(pool_size=(2, 2)))\n",
        "m1.add(Flatten())\n",
        "m1.add(Dropout(0.2))\n",
        "m1.add(Dense(1024, activation='relu', kernel_constraint=maxnorm(3)))\n",
        "m1.add(Dropout(0.2))\n",
        "m1.add(Dense(512, activation='relu', kernel_constraint=maxnorm(3)))\n",
        "m1.add(Dropout(0.2))\n",
        "m1.add(Dense(num_classes, activation='softmax'))"
      ],
      "execution_count": 0,
      "outputs": []
    },
    {
      "cell_type": "code",
      "metadata": {
        "id": "PDKkorvbErBc",
        "colab_type": "code",
        "colab": {}
      },
      "source": [
        "epochs = 20\n",
        "lrate = 0.001\n",
        "decay = lrate/epochs\n",
        "sgd = Adam(lr=lrate)\n",
        "m1.compile(loss='categorical_crossentropy', optimizer=sgd, metrics=['accuracy'])"
      ],
      "execution_count": 0,
      "outputs": []
    },
    {
      "cell_type": "code",
      "metadata": {
        "id": "9RUaPpGkEvyB",
        "colab_type": "code",
        "outputId": "3d80f249-327b-4d80-cca1-5690755eef8d",
        "colab": {
          "base_uri": "https://localhost:8080/",
          "height": 852
        }
      },
      "source": [
        "print(m1.summary())"
      ],
      "execution_count": 35,
      "outputs": [
        {
          "output_type": "stream",
          "text": [
            "Model: \"sequential_5\"\n",
            "_________________________________________________________________\n",
            "Layer (type)                 Output Shape              Param #   \n",
            "=================================================================\n",
            "conv2d_9 (Conv2D)            (None, 32, 32, 32)        896       \n",
            "_________________________________________________________________\n",
            "dropout_13 (Dropout)         (None, 32, 32, 32)        0         \n",
            "_________________________________________________________________\n",
            "conv2d_10 (Conv2D)           (None, 32, 32, 32)        9248      \n",
            "_________________________________________________________________\n",
            "max_pooling2d_5 (MaxPooling2 (None, 16, 16, 32)        0         \n",
            "_________________________________________________________________\n",
            "conv2d_11 (Conv2D)           (None, 16, 16, 64)        18496     \n",
            "_________________________________________________________________\n",
            "dropout_14 (Dropout)         (None, 16, 16, 64)        0         \n",
            "_________________________________________________________________\n",
            "conv2d_12 (Conv2D)           (None, 16, 16, 64)        36928     \n",
            "_________________________________________________________________\n",
            "max_pooling2d_6 (MaxPooling2 (None, 8, 8, 64)          0         \n",
            "_________________________________________________________________\n",
            "conv2d_13 (Conv2D)           (None, 8, 8, 128)         73856     \n",
            "_________________________________________________________________\n",
            "dropout_15 (Dropout)         (None, 8, 8, 128)         0         \n",
            "_________________________________________________________________\n",
            "conv2d_14 (Conv2D)           (None, 8, 8, 128)         147584    \n",
            "_________________________________________________________________\n",
            "max_pooling2d_7 (MaxPooling2 (None, 4, 4, 128)         0         \n",
            "_________________________________________________________________\n",
            "flatten_5 (Flatten)          (None, 2048)              0         \n",
            "_________________________________________________________________\n",
            "dropout_16 (Dropout)         (None, 2048)              0         \n",
            "_________________________________________________________________\n",
            "dense_9 (Dense)              (None, 1024)              2098176   \n",
            "_________________________________________________________________\n",
            "dropout_17 (Dropout)         (None, 1024)              0         \n",
            "_________________________________________________________________\n",
            "dense_10 (Dense)             (None, 512)               524800    \n",
            "_________________________________________________________________\n",
            "dropout_18 (Dropout)         (None, 512)               0         \n",
            "_________________________________________________________________\n",
            "dense_11 (Dense)             (None, 10)                5130      \n",
            "=================================================================\n",
            "Total params: 2,915,114\n",
            "Trainable params: 2,915,114\n",
            "Non-trainable params: 0\n",
            "_________________________________________________________________\n",
            "None\n"
          ],
          "name": "stdout"
        }
      ]
    },
    {
      "cell_type": "code",
      "metadata": {
        "id": "7g69_YpVEzEO",
        "colab_type": "code",
        "outputId": "7c71a171-05cd-447d-d95a-a829b65c2f32",
        "colab": {
          "base_uri": "https://localhost:8080/",
          "height": 763
        }
      },
      "source": [
        "m1.fit(X_train, y_train, validation_data=(X_test, y_test), epochs=epochs, batch_size=128)"
      ],
      "execution_count": 36,
      "outputs": [
        {
          "output_type": "stream",
          "text": [
            "Train on 50000 samples, validate on 10000 samples\n",
            "Epoch 1/20\n",
            "50000/50000 [==============================] - 12s 241us/step - loss: 1.7234 - accuracy: 0.3570 - val_loss: 1.4441 - val_accuracy: 0.4725\n",
            "Epoch 2/20\n",
            "50000/50000 [==============================] - 11s 225us/step - loss: 1.2380 - accuracy: 0.5524 - val_loss: 1.1587 - val_accuracy: 0.5893\n",
            "Epoch 3/20\n",
            "50000/50000 [==============================] - 11s 225us/step - loss: 1.0136 - accuracy: 0.6379 - val_loss: 0.9658 - val_accuracy: 0.6580\n",
            "Epoch 4/20\n",
            "50000/50000 [==============================] - 11s 224us/step - loss: 0.8626 - accuracy: 0.6937 - val_loss: 0.8180 - val_accuracy: 0.7162\n",
            "Epoch 5/20\n",
            "50000/50000 [==============================] - 11s 225us/step - loss: 0.7670 - accuracy: 0.7297 - val_loss: 0.7602 - val_accuracy: 0.7334\n",
            "Epoch 6/20\n",
            "50000/50000 [==============================] - 11s 224us/step - loss: 0.6921 - accuracy: 0.7567 - val_loss: 0.7030 - val_accuracy: 0.7601\n",
            "Epoch 7/20\n",
            "50000/50000 [==============================] - 11s 224us/step - loss: 0.6295 - accuracy: 0.7801 - val_loss: 0.6768 - val_accuracy: 0.7675\n",
            "Epoch 8/20\n",
            "50000/50000 [==============================] - 11s 225us/step - loss: 0.5788 - accuracy: 0.7962 - val_loss: 0.6560 - val_accuracy: 0.7749\n",
            "Epoch 9/20\n",
            "50000/50000 [==============================] - 11s 225us/step - loss: 0.5404 - accuracy: 0.8090 - val_loss: 0.6450 - val_accuracy: 0.7804\n",
            "Epoch 10/20\n",
            "50000/50000 [==============================] - 11s 227us/step - loss: 0.4897 - accuracy: 0.8280 - val_loss: 0.6461 - val_accuracy: 0.7830\n",
            "Epoch 11/20\n",
            "50000/50000 [==============================] - 11s 224us/step - loss: 0.4596 - accuracy: 0.8359 - val_loss: 0.6190 - val_accuracy: 0.7938\n",
            "Epoch 12/20\n",
            "50000/50000 [==============================] - 11s 224us/step - loss: 0.4286 - accuracy: 0.8474 - val_loss: 0.6260 - val_accuracy: 0.7952\n",
            "Epoch 13/20\n",
            "50000/50000 [==============================] - 11s 225us/step - loss: 0.4056 - accuracy: 0.8546 - val_loss: 0.6201 - val_accuracy: 0.7972\n",
            "Epoch 14/20\n",
            "50000/50000 [==============================] - 11s 225us/step - loss: 0.3810 - accuracy: 0.8643 - val_loss: 0.6671 - val_accuracy: 0.7887\n",
            "Epoch 15/20\n",
            "50000/50000 [==============================] - 11s 225us/step - loss: 0.3619 - accuracy: 0.8696 - val_loss: 0.6269 - val_accuracy: 0.8011\n",
            "Epoch 16/20\n",
            "50000/50000 [==============================] - 11s 224us/step - loss: 0.3391 - accuracy: 0.8790 - val_loss: 0.6116 - val_accuracy: 0.8028\n",
            "Epoch 17/20\n",
            "50000/50000 [==============================] - 11s 226us/step - loss: 0.3192 - accuracy: 0.8873 - val_loss: 0.6464 - val_accuracy: 0.7954\n",
            "Epoch 18/20\n",
            "50000/50000 [==============================] - 11s 226us/step - loss: 0.3081 - accuracy: 0.8898 - val_loss: 0.6415 - val_accuracy: 0.8000\n",
            "Epoch 19/20\n",
            "50000/50000 [==============================] - 11s 225us/step - loss: 0.2994 - accuracy: 0.8940 - val_loss: 0.6667 - val_accuracy: 0.7955\n",
            "Epoch 20/20\n",
            "50000/50000 [==============================] - 11s 225us/step - loss: 0.2782 - accuracy: 0.9022 - val_loss: 0.6660 - val_accuracy: 0.7984\n"
          ],
          "name": "stdout"
        },
        {
          "output_type": "execute_result",
          "data": {
            "text/plain": [
              "<keras.callbacks.callbacks.History at 0x7fccc017dc18>"
            ]
          },
          "metadata": {
            "tags": []
          },
          "execution_count": 36
        }
      ]
    },
    {
      "cell_type": "code",
      "metadata": {
        "id": "7sVyw25HE4wg",
        "colab_type": "code",
        "outputId": "4708c676-658f-4cf1-c683-b4584ed0b4e5",
        "colab": {
          "base_uri": "https://localhost:8080/",
          "height": 34
        }
      },
      "source": [
        "scores = m1.evaluate(X_test, y_test, verbose=0)\n",
        "print(\"Accuracy: %.2f%%\" % (scores[1]*100))"
      ],
      "execution_count": 37,
      "outputs": [
        {
          "output_type": "stream",
          "text": [
            "Accuracy: 79.84%\n"
          ],
          "name": "stdout"
        }
      ]
    },
    {
      "cell_type": "markdown",
      "metadata": {
        "id": "sF6V7JGzJJym",
        "colab_type": "text"
      },
      "source": [
        "2. Model to Keras API Model"
      ]
    },
    {
      "cell_type": "code",
      "metadata": {
        "id": "2IC2qHkdLhHx",
        "colab_type": "code",
        "outputId": "9589465b-3ebd-470b-cbcd-9d82413d2719",
        "colab": {
          "base_uri": "https://localhost:8080/",
          "height": 34
        }
      },
      "source": [
        "print(X_train.shape[1:])"
      ],
      "execution_count": 38,
      "outputs": [
        {
          "output_type": "stream",
          "text": [
            "(32, 32, 3)\n"
          ],
          "name": "stdout"
        }
      ]
    },
    {
      "cell_type": "code",
      "metadata": {
        "id": "w5WQxIraJJO5",
        "colab_type": "code",
        "outputId": "e6faf02f-ce52-4c3e-d7f7-53ea3d13f621",
        "colab": {
          "base_uri": "https://localhost:8080/",
          "height": 52
        }
      },
      "source": [
        "from keras.models import Model\n",
        "from keras.layers import Input\n",
        "\n",
        "visible = Input(shape=(32,32,3))\n",
        "x=Conv2D(32,(3,3),padding=\"same\",activation='relu')(visible)\n",
        "x=Dropout(0.2)(x)\n",
        "x=Conv2D(256, (3, 3), activation='relu', padding='same')(x)\n",
        "x=MaxPooling2D(pool_size=(2, 2))(x)\n",
        "x=Dropout(0.5)(x)\n",
        "x=Flatten()(x)\n",
        "x=Dense(512, activation='relu', kernel_constraint=maxnorm(3))(x)\n",
        "x=Dropout(0.3)(x)\n",
        "x=Dense(num_classes, activation='softmax')(x)\n",
        "m2 = Model(inputs=visible,output=x)"
      ],
      "execution_count": 40,
      "outputs": [
        {
          "output_type": "stream",
          "text": [
            "/usr/local/lib/python3.6/dist-packages/ipykernel_launcher.py:14: UserWarning: Update your `Model` call to the Keras 2 API: `Model(inputs=Tensor(\"in..., outputs=Tensor(\"de...)`\n",
            "  \n"
          ],
          "name": "stderr"
        }
      ]
    },
    {
      "cell_type": "code",
      "metadata": {
        "id": "NquG5aluTQe0",
        "colab_type": "code",
        "colab": {}
      },
      "source": [
        "epochs = 20\n",
        "lrate = 0.001\n",
        "decay = lrate/epochs\n",
        "sgd = Adam(lr=lrate)\n",
        "m2.compile(loss='categorical_crossentropy', optimizer=sgd, metrics=['accuracy'])"
      ],
      "execution_count": 0,
      "outputs": []
    },
    {
      "cell_type": "code",
      "metadata": {
        "id": "7ziIStCVTVCB",
        "colab_type": "code",
        "outputId": "da8e435b-7f90-421a-df7d-6c054c7cf787",
        "colab": {
          "base_uri": "https://localhost:8080/",
          "height": 763
        }
      },
      "source": [
        "m2.fit(X_train, y_train, validation_data=(X_test, y_test), epochs=epochs, batch_size=128)"
      ],
      "execution_count": 42,
      "outputs": [
        {
          "output_type": "stream",
          "text": [
            "Train on 50000 samples, validate on 10000 samples\n",
            "Epoch 1/20\n",
            "50000/50000 [==============================] - 34s 674us/step - loss: 1.6484 - accuracy: 0.4142 - val_loss: 1.2829 - val_accuracy: 0.5488\n",
            "Epoch 2/20\n",
            "50000/50000 [==============================] - 33s 664us/step - loss: 1.2221 - accuracy: 0.5666 - val_loss: 1.0723 - val_accuracy: 0.6277\n",
            "Epoch 3/20\n",
            "50000/50000 [==============================] - 33s 662us/step - loss: 1.0823 - accuracy: 0.6153 - val_loss: 1.0143 - val_accuracy: 0.6501\n",
            "Epoch 4/20\n",
            "50000/50000 [==============================] - 33s 664us/step - loss: 0.9961 - accuracy: 0.6476 - val_loss: 0.9583 - val_accuracy: 0.6685\n",
            "Epoch 5/20\n",
            "50000/50000 [==============================] - 33s 663us/step - loss: 0.9401 - accuracy: 0.6681 - val_loss: 0.9766 - val_accuracy: 0.6556\n",
            "Epoch 6/20\n",
            "50000/50000 [==============================] - 33s 664us/step - loss: 0.8911 - accuracy: 0.6860 - val_loss: 0.9256 - val_accuracy: 0.6740\n",
            "Epoch 7/20\n",
            "50000/50000 [==============================] - 33s 664us/step - loss: 0.8477 - accuracy: 0.6999 - val_loss: 0.8702 - val_accuracy: 0.7000\n",
            "Epoch 8/20\n",
            "50000/50000 [==============================] - 33s 663us/step - loss: 0.8144 - accuracy: 0.7124 - val_loss: 0.8290 - val_accuracy: 0.7129\n",
            "Epoch 9/20\n",
            "50000/50000 [==============================] - 33s 664us/step - loss: 0.7902 - accuracy: 0.7215 - val_loss: 0.8518 - val_accuracy: 0.7009\n",
            "Epoch 10/20\n",
            "50000/50000 [==============================] - 33s 663us/step - loss: 0.7690 - accuracy: 0.7302 - val_loss: 0.8417 - val_accuracy: 0.7111\n",
            "Epoch 11/20\n",
            "50000/50000 [==============================] - 33s 663us/step - loss: 0.7522 - accuracy: 0.7350 - val_loss: 0.8085 - val_accuracy: 0.7188\n",
            "Epoch 12/20\n",
            "50000/50000 [==============================] - 33s 664us/step - loss: 0.7325 - accuracy: 0.7415 - val_loss: 0.8003 - val_accuracy: 0.7197\n",
            "Epoch 13/20\n",
            "50000/50000 [==============================] - 33s 665us/step - loss: 0.7182 - accuracy: 0.7480 - val_loss: 0.8195 - val_accuracy: 0.7151\n",
            "Epoch 14/20\n",
            "50000/50000 [==============================] - 33s 665us/step - loss: 0.6862 - accuracy: 0.7592 - val_loss: 0.7893 - val_accuracy: 0.7245\n",
            "Epoch 15/20\n",
            "50000/50000 [==============================] - 33s 665us/step - loss: 0.6725 - accuracy: 0.7612 - val_loss: 0.7930 - val_accuracy: 0.7242\n",
            "Epoch 16/20\n",
            "50000/50000 [==============================] - 33s 666us/step - loss: 0.6660 - accuracy: 0.7653 - val_loss: 0.8039 - val_accuracy: 0.7221\n",
            "Epoch 17/20\n",
            "50000/50000 [==============================] - 33s 665us/step - loss: 0.6445 - accuracy: 0.7708 - val_loss: 0.7785 - val_accuracy: 0.7315\n",
            "Epoch 18/20\n",
            "50000/50000 [==============================] - 33s 664us/step - loss: 0.6359 - accuracy: 0.7770 - val_loss: 0.7841 - val_accuracy: 0.7292\n",
            "Epoch 19/20\n",
            "50000/50000 [==============================] - 33s 665us/step - loss: 0.6215 - accuracy: 0.7822 - val_loss: 0.7754 - val_accuracy: 0.7293\n",
            "Epoch 20/20\n",
            "50000/50000 [==============================] - 33s 665us/step - loss: 0.5991 - accuracy: 0.7912 - val_loss: 0.7696 - val_accuracy: 0.7396\n"
          ],
          "name": "stdout"
        },
        {
          "output_type": "execute_result",
          "data": {
            "text/plain": [
              "<keras.callbacks.callbacks.History at 0x7fccac343b00>"
            ]
          },
          "metadata": {
            "tags": []
          },
          "execution_count": 42
        }
      ]
    },
    {
      "cell_type": "markdown",
      "metadata": {
        "id": "Ecvz-rVUVsJ1",
        "colab_type": "text"
      },
      "source": [
        "3. Predicting the first four images of dataset"
      ]
    },
    {
      "cell_type": "code",
      "metadata": {
        "id": "-xmA5JkzVhww",
        "colab_type": "code",
        "outputId": "3ae98b62-1472-44ce-decb-c55001fadd99",
        "colab": {
          "base_uri": "https://localhost:8080/",
          "height": 34
        }
      },
      "source": [
        "y=model.predict_classes(X_train[[1],:])\n",
        "print(y[0])"
      ],
      "execution_count": 43,
      "outputs": [
        {
          "output_type": "stream",
          "text": [
            "9\n"
          ],
          "name": "stdout"
        }
      ]
    },
    {
      "cell_type": "code",
      "metadata": {
        "id": "FXrEsab4IVCh",
        "colab_type": "code",
        "outputId": "55fe61ce-159a-4818-ce03-9c64c77e593d",
        "colab": {
          "base_uri": "https://localhost:8080/",
          "height": 1000
        }
      },
      "source": [
        "import matplotlib.pyplot as plt\n",
        "for i in range(1,5):\n",
        "  plt.imshow(X_test[i,:,:])  \n",
        "  plt.show()\n",
        "  y=model.predict_classes(X_test[[i],:])\n",
        "  print(\"actual\",yp[i],\"predicted\",y[0])"
      ],
      "execution_count": 44,
      "outputs": [
        {
          "output_type": "display_data",
          "data": {
            "image/png": "[encoded data removed]",
            "text/plain": [
              "<Figure size 432x288 with 1 Axes>"
            ]
          },
          "metadata": {
            "tags": [],
            "needs_background": "light"
          }
        },
        {
          "output_type": "stream",
          "text": [
            "actual [8] predicted 8\n"
          ],
          "name": "stdout"
        },
        {
          "output_type": "display_data",
          "data": {
            "image/png": "[encoded data removed]",
            "text/plain": [
              "<Figure size 432x288 with 1 Axes>"
            ]
          },
          "metadata": {
            "tags": [],
            "needs_background": "light"
          }
        },
        {
          "output_type": "stream",
          "text": [
            "actual [8] predicted 8\n"
          ],
          "name": "stdout"
        },
        {
          "output_type": "display_data",
          "data": {
            "image/png": "[encoded data removed]",
            "text/plain": [
              "<Figure size 432x288 with 1 Axes>"
            ]
          },
          "metadata": {
            "tags": [],
            "needs_background": "light"
          }
        },
        {
          "output_type": "stream",
          "text": [
            "actual [0] predicted 0\n"
          ],
          "name": "stdout"
        },
        {
          "output_type": "display_data",
          "data": {
            "image/png": "[encoded data removed]",
            "text/plain": [
              "<Figure size 432x288 with 1 Axes>"
            ]
          },
          "metadata": {
            "tags": [],
            "needs_background": "light"
          }
        },
        {
          "output_type": "stream",
          "text": [
            "actual [6] predicted 6\n"
          ],
          "name": "stdout"
        }
      ]
    }
  ]
}