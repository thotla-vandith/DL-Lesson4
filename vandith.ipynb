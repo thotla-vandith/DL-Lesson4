{
  "nbformat": 4,
  "nbformat_minor": 0,
  "metadata": {
    "colab": {
      "name": "vandith.ipynb",
      "provenance": [],
      "machine_shape": "hm"
    },
    "kernelspec": {
      "name": "python3",
      "display_name": "Python 3"
    },
    "accelerator": "GPU"
  },
  "cells": [
    {
      "cell_type": "code",
      "metadata": {
        "id": "-xOVM7kFq0uL",
        "colab_type": "code",
        "outputId": "0c711e22-c540-49f5-bf78-2a7bb1398c45",
        "colab": {
          "base_uri": "https://localhost:8080/",
          "height": 141
        }
      },
      "source": [
        "%tensorflow_version 1.15\n",
        "import tensorflow as tf\n",
        "from keras import Sequential\n",
        "from keras.datasets import mnist\n",
        "import numpy as np\n",
        "from keras.layers import Dense\n",
        "from keras.utils import to_categorical\n",
        "from keras.preprocessing.image import ImageDataGenerator, load_img\n",
        "import os\n",
        "import matplotlib.pyplot as plt\n",
        "from keras.layers import Dense, Flatten, Dropout, Input, BatchNormalization\n",
        "from keras.constraints import maxnorm\n",
        "from keras.models import Model\n",
        "from keras.optimizers import SGD, Adam\n",
        "from keras.layers.convolutional import Conv2D, MaxPooling2D\n",
        "from keras.utils import np_utils\n",
        "from keras import backend as K\n",
        "K.common.image_dim_ordering()"
      ],
      "execution_count": 3,
      "outputs": [
        {
          "output_type": "stream",
          "text": [
            "`%tensorflow_version` only switches the major version: 1.x or 2.x.\n",
            "You set: `1.15`. This will be interpreted as: `1.x`.\n",
            "\n",
            "\n",
            "TensorFlow 1.x selected.\n"
          ],
          "name": "stdout"
        },
        {
          "output_type": "stream",
          "text": [
            "Using TensorFlow backend.\n"
          ],
          "name": "stderr"
        },
        {
          "output_type": "execute_result",
          "data": {
            "text/plain": [
              "'tf'"
            ]
          },
          "metadata": {
            "tags": []
          },
          "execution_count": 3
        }
      ]
    },
    {
      "cell_type": "code",
      "metadata": {
        "id": "zEHhM7rq9vDb",
        "colab_type": "code",
        "outputId": "1e62d077-8ab3-4852-97df-c0e059af3563",
        "colab": {
          "base_uri": "https://localhost:8080/",
          "height": 125
        }
      },
      "source": [
        "from google.colab import drive\n",
        "drive.mount('/content/drive')"
      ],
      "execution_count": 4,
      "outputs": [
        {
          "output_type": "stream",
          "text": [
            "Go to this URL in a browser: https://accounts.google.com/o/oauth2/auth?client_id=947318989803-6bn6qk8qdgf4n4g3pfee6491hc0brc4i.apps.googleusercontent.com&redirect_uri=urn%3aietf%3awg%3aoauth%3a2.0%3aoob&response_type=code&scope=email%20https%3a%2f%2fwww.googleapis.com%2fauth%2fdocs.test%20https%3a%2f%2fwww.googleapis.com%2fauth%2fdrive%20https%3a%2f%2fwww.googleapis.com%2fauth%2fdrive.photos.readonly%20https%3a%2f%2fwww.googleapis.com%2fauth%2fpeopleapi.readonly\n",
            "\n",
            "Enter your authorization code:\n",
            "··········\n",
            "Mounted at /content/drive\n"
          ],
          "name": "stdout"
        }
      ]
    },
    {
      "cell_type": "code",
      "metadata": {
        "id": "VWbKDaXmts2p",
        "colab_type": "code",
        "colab": {}
      },
      "source": [
        "from PIL import Image\n",
        "import glob\n",
        "import cv2\n",
        "train_images=[]\n",
        "for filename in glob.glob('/content/drive/My Drive/Python Colab/DL_Lesson4/Bikes/Train/*.jpg'):\n",
        "    img_normal = cv2.imread(filename)\n",
        "    output = cv2.resize(img_normal, (50,50))\n",
        "    train_images.append([output,0])"
      ],
      "execution_count": 0,
      "outputs": []
    },
    {
      "cell_type": "code",
      "metadata": {
        "id": "2WpHZ8nKxobx",
        "colab_type": "code",
        "colab": {}
      },
      "source": [
        "from PIL import Image\n",
        "import glob\n",
        "import cv2\n",
        "for filename in glob.glob('/content/drive/My Drive/Python Colab/DL_Lesson4/Birds/Train/*.jpg'):\n",
        "    img_normal = cv2.imread(filename)\n",
        "    output = cv2.resize(img_normal,(50,50))\n",
        "    train_images.append([output,1])"
      ],
      "execution_count": 0,
      "outputs": []
    },
    {
      "cell_type": "code",
      "metadata": {
        "id": "UNVAufGmzy5r",
        "colab_type": "code",
        "colab": {}
      },
      "source": [
        "import random\n",
        "random.shuffle(train_images)"
      ],
      "execution_count": 0,
      "outputs": []
    },
    {
      "cell_type": "code",
      "metadata": {
        "id": "I4DZ9Lvx0LuS",
        "colab_type": "code",
        "colab": {}
      },
      "source": [
        "x_train=[]\n",
        "y_train=[]\n",
        "for im,label in train_images:\n",
        "  x_train.append(im)\n",
        "  y_train.append(label)"
      ],
      "execution_count": 0,
      "outputs": []
    },
    {
      "cell_type": "code",
      "metadata": {
        "id": "s2wlT_vg1xKD",
        "colab_type": "code",
        "colab": {}
      },
      "source": [
        "x_train=np.array(x_train).reshape(-1,50,50,3)"
      ],
      "execution_count": 0,
      "outputs": []
    },
    {
      "cell_type": "code",
      "metadata": {
        "id": "dyiRSjBhoi4P",
        "colab_type": "code",
        "outputId": "20e13d2b-2362-4397-b9d4-b95dd218af46",
        "colab": {
          "base_uri": "https://localhost:8080/",
          "height": 887
        }
      },
      "source": [
        "train_images[0]"
      ],
      "execution_count": 10,
      "outputs": [
        {
          "output_type": "execute_result",
          "data": {
            "text/plain": [
              "[array([[[  6,  13,  10],\n",
              "         [243, 248, 247],\n",
              "         [  8,  14,  13],\n",
              "         ...,\n",
              "         [  8,  18,  12],\n",
              "         [  8,  18,  12],\n",
              "         [  8,  18,  12]],\n",
              " \n",
              "        [[229, 232, 230],\n",
              "         [252, 252, 252],\n",
              "         [ 10,  11,  11],\n",
              "         ...,\n",
              "         [  8,  18,  12],\n",
              "         [  8,  18,  12],\n",
              "         [  8,  18,  12]],\n",
              " \n",
              "        [[  9,  13,  11],\n",
              "         [  0,   5,   2],\n",
              "         [ 20,  26,  23],\n",
              "         ...,\n",
              "         [  5,  19,  15],\n",
              "         [  5,  19,  15],\n",
              "         [  4,  20,   8]],\n",
              " \n",
              "        ...,\n",
              " \n",
              "        [[  7,  17,  11],\n",
              "         [  7,  17,  11],\n",
              "         [  7,  17,  11],\n",
              "         ...,\n",
              "         [  9,  17,  15],\n",
              "         [  4,  16,  14],\n",
              "         [  3,  11,   9]],\n",
              " \n",
              "        [[  8,  18,  12],\n",
              "         [  8,  18,  12],\n",
              "         [  8,  18,  12],\n",
              "         ...,\n",
              "         [247, 250, 249],\n",
              "         [237, 240, 238],\n",
              "         [225, 229, 229]],\n",
              " \n",
              "        [[  8,  18,  12],\n",
              "         [  8,  18,  12],\n",
              "         [  8,  18,  12],\n",
              "         ...,\n",
              "         [  6,  12,   8],\n",
              "         [  9,  14,  12],\n",
              "         [  7,  15,   9]]], dtype=uint8), 0]"
            ]
          },
          "metadata": {
            "tags": []
          },
          "execution_count": 10
        }
      ]
    },
    {
      "cell_type": "code",
      "metadata": {
        "id": "1IlUMv9PoStq",
        "colab_type": "code",
        "outputId": "2849c97a-cba6-4e45-f119-7564c4a25339",
        "colab": {
          "base_uri": "https://localhost:8080/",
          "height": 887
        }
      },
      "source": [
        "type(x_train)\n",
        "x_train.shape\n",
        "x_train[0]"
      ],
      "execution_count": 11,
      "outputs": [
        {
          "output_type": "execute_result",
          "data": {
            "text/plain": [
              "array([[[  6,  13,  10],\n",
              "        [243, 248, 247],\n",
              "        [  8,  14,  13],\n",
              "        ...,\n",
              "        [  8,  18,  12],\n",
              "        [  8,  18,  12],\n",
              "        [  8,  18,  12]],\n",
              "\n",
              "       [[229, 232, 230],\n",
              "        [252, 252, 252],\n",
              "        [ 10,  11,  11],\n",
              "        ...,\n",
              "        [  8,  18,  12],\n",
              "        [  8,  18,  12],\n",
              "        [  8,  18,  12]],\n",
              "\n",
              "       [[  9,  13,  11],\n",
              "        [  0,   5,   2],\n",
              "        [ 20,  26,  23],\n",
              "        ...,\n",
              "        [  5,  19,  15],\n",
              "        [  5,  19,  15],\n",
              "        [  4,  20,   8]],\n",
              "\n",
              "       ...,\n",
              "\n",
              "       [[  7,  17,  11],\n",
              "        [  7,  17,  11],\n",
              "        [  7,  17,  11],\n",
              "        ...,\n",
              "        [  9,  17,  15],\n",
              "        [  4,  16,  14],\n",
              "        [  3,  11,   9]],\n",
              "\n",
              "       [[  8,  18,  12],\n",
              "        [  8,  18,  12],\n",
              "        [  8,  18,  12],\n",
              "        ...,\n",
              "        [247, 250, 249],\n",
              "        [237, 240, 238],\n",
              "        [225, 229, 229]],\n",
              "\n",
              "       [[  8,  18,  12],\n",
              "        [  8,  18,  12],\n",
              "        [  8,  18,  12],\n",
              "        ...,\n",
              "        [  6,  12,   8],\n",
              "        [  9,  14,  12],\n",
              "        [  7,  15,   9]]], dtype=uint8)"
            ]
          },
          "metadata": {
            "tags": []
          },
          "execution_count": 11
        }
      ]
    },
    {
      "cell_type": "code",
      "metadata": {
        "id": "_C77AIUF2B5k",
        "colab_type": "code",
        "outputId": "751fde9d-6d6d-4ed6-a209-599146b57b9c",
        "colab": {
          "base_uri": "https://localhost:8080/",
          "height": 281
        }
      },
      "source": [
        "import matplotlib.pyplot as plt\n",
        "plt.imshow(x_train[50,:,:])\n",
        "plt.title('Ground Truth : {}'.format(y_train[50]))\n",
        "plt.show()\n"
      ],
      "execution_count": 12,
      "outputs": [
        {
          "output_type": "display_data",
          "data": {
            "image/png": "[encoded data removed]",
            "text/plain": [
              "<Figure size 432x288 with 1 Axes>"
            ]
          },
          "metadata": {
            "tags": [],
            "needs_background": "light"
          }
        }
      ]
    },
    {
      "cell_type": "code",
      "metadata": {
        "id": "C6zYDe4y3AN8",
        "colab_type": "code",
        "colab": {}
      },
      "source": [
        "test_images=[]\n",
        "for filename in glob.glob('/content/drive/My Drive/Python Colab/DL_Lesson4/Bikes/Test/*.jpg'): \n",
        "    img_normal = cv2.imread(filename)\n",
        "    output = cv2.resize(img_normal, (50,50))\n",
        "    test_images.append([output,0])"
      ],
      "execution_count": 0,
      "outputs": []
    },
    {
      "cell_type": "code",
      "metadata": {
        "id": "t2Qi0yBR3b01",
        "colab_type": "code",
        "colab": {}
      },
      "source": [
        "for filename in glob.glob('/content/drive/My Drive/Python Colab/DL_Lesson4/Birds/Test/*.jpg'): \n",
        "    img_normal = cv2.imread(filename)\n",
        "    #print(im.shape)\n",
        "    #print(type(im.shape))\n",
        "    output = cv2.resize(img_normal, (50,50))\n",
        "    test_images.append([output,1])"
      ],
      "execution_count": 0,
      "outputs": []
    },
    {
      "cell_type": "code",
      "metadata": {
        "id": "s-vveX1y3vzJ",
        "colab_type": "code",
        "colab": {}
      },
      "source": [
        "random.shuffle(test_images)"
      ],
      "execution_count": 0,
      "outputs": []
    },
    {
      "cell_type": "code",
      "metadata": {
        "id": "_FGl7vzE3zq4",
        "colab_type": "code",
        "colab": {}
      },
      "source": [
        "x_test=[]\n",
        "y_test=[]\n",
        "for im,label in test_images:\n",
        "  x_test.append(im)\n",
        "  y_test.append(label)"
      ],
      "execution_count": 0,
      "outputs": []
    },
    {
      "cell_type": "code",
      "metadata": {
        "id": "jOoODJ264Bao",
        "colab_type": "code",
        "colab": {}
      },
      "source": [
        "x_test=np.array(x_test).reshape(-1,50,50,3)"
      ],
      "execution_count": 0,
      "outputs": []
    },
    {
      "cell_type": "code",
      "metadata": {
        "id": "9APCK0tp4UFs",
        "colab_type": "code",
        "colab": {}
      },
      "source": [
        "x_train = x_train.astype('float32')\n",
        "x_test = x_test.astype('float32')\n",
        "x_train = x_train / 255.0\n",
        "x_test = x_test / 255.0"
      ],
      "execution_count": 0,
      "outputs": []
    },
    {
      "cell_type": "code",
      "metadata": {
        "id": "4VTcRk9m4poj",
        "colab_type": "code",
        "colab": {}
      },
      "source": [
        "y_train = np_utils.to_categorical(y_train)\n",
        "y_test = np_utils.to_categorical(y_test)\n",
        "num_classes = y_test.shape[1]"
      ],
      "execution_count": 0,
      "outputs": []
    },
    {
      "cell_type": "code",
      "metadata": {
        "id": "LnQad1Tn41ap",
        "colab_type": "code",
        "colab": {}
      },
      "source": [
        "model = Sequential()\n",
        "model.add(Conv2D(256, (3, 3), input_shape=(x_train.shape[1:]), padding='same', activation='relu'))\n",
        "model.add(Dropout(0.5))\n",
        "model.add(Conv2D(256, (3, 3), activation='relu', padding='same'))\n",
        "model.add(MaxPooling2D(pool_size=(2, 2)))\n",
        "model.add(Dropout(0.5))\n",
        "model.add(Flatten())\n",
        "model.add(Dense(512, activation='relu', kernel_constraint=maxnorm(3)))\n",
        "model.add(Dropout(0.3))\n",
        "model.add(Dense(num_classes, activation='softmax'))"
      ],
      "execution_count": 0,
      "outputs": []
    },
    {
      "cell_type": "code",
      "metadata": {
        "id": "SugkVFcd5Bk-",
        "colab_type": "code",
        "colab": {}
      },
      "source": [
        "epochs = 10\n",
        "lrate = 0.001\n",
        "decay = lrate/epochs\n",
        "sgd = Adam(lr=lrate)\n",
        "model.compile(loss='categorical_crossentropy', optimizer=sgd, metrics=['accuracy'])"
      ],
      "execution_count": 0,
      "outputs": []
    },
    {
      "cell_type": "code",
      "metadata": {
        "id": "GHYzTeqy5N1i",
        "colab_type": "code",
        "outputId": "e118a3b6-2650-4e17-973e-63db45446e96",
        "colab": {
          "base_uri": "https://localhost:8080/",
          "height": 407
        }
      },
      "source": [
        "model.fit(x_train, y_train, validation_data=(x_test, y_test), epochs=epochs, batch_size=128)"
      ],
      "execution_count": 24,
      "outputs": [
        {
          "output_type": "stream",
          "text": [
            "Train on 465 samples, validate on 373 samples\n",
            "Epoch 1/10\n",
            "465/465 [==============================] - 1s 2ms/step - loss: 0.6520 - accuracy: 0.6774 - val_loss: 0.6539 - val_accuracy: 0.5979\n",
            "Epoch 2/10\n",
            "465/465 [==============================] - 1s 1ms/step - loss: 0.6330 - accuracy: 0.6774 - val_loss: 0.6539 - val_accuracy: 0.5979\n",
            "Epoch 3/10\n",
            "465/465 [==============================] - 1s 1ms/step - loss: 0.6316 - accuracy: 0.6774 - val_loss: 0.6482 - val_accuracy: 0.5979\n",
            "Epoch 4/10\n",
            "465/465 [==============================] - 1s 1ms/step - loss: 0.6130 - accuracy: 0.6774 - val_loss: 0.6364 - val_accuracy: 0.5979\n",
            "Epoch 5/10\n",
            "465/465 [==============================] - 1s 1ms/step - loss: 0.5890 - accuracy: 0.6774 - val_loss: 0.6138 - val_accuracy: 0.5979\n",
            "Epoch 6/10\n",
            "465/465 [==============================] - 1s 1ms/step - loss: 0.5710 - accuracy: 0.6774 - val_loss: 0.5739 - val_accuracy: 0.5979\n",
            "Epoch 7/10\n",
            "465/465 [==============================] - 1s 1ms/step - loss: 0.5275 - accuracy: 0.6774 - val_loss: 0.5275 - val_accuracy: 0.5979\n",
            "Epoch 8/10\n",
            "465/465 [==============================] - 1s 1ms/step - loss: 0.4746 - accuracy: 0.6774 - val_loss: 0.4729 - val_accuracy: 0.5979\n",
            "Epoch 9/10\n",
            "465/465 [==============================] - 1s 1ms/step - loss: 0.4057 - accuracy: 0.6774 - val_loss: 0.4136 - val_accuracy: 0.5979\n",
            "Epoch 10/10\n",
            "465/465 [==============================] - 1s 1ms/step - loss: 0.3642 - accuracy: 0.7419 - val_loss: 0.3666 - val_accuracy: 0.8016\n"
          ],
          "name": "stdout"
        },
        {
          "output_type": "execute_result",
          "data": {
            "text/plain": [
              "<keras.callbacks.callbacks.History at 0x7fbeadfbca20>"
            ]
          },
          "metadata": {
            "tags": []
          },
          "execution_count": 24
        }
      ]
    },
    {
      "cell_type": "code",
      "metadata": {
        "id": "KwQkfmYI9sjk",
        "colab_type": "code",
        "colab": {}
      },
      "source": [
        "import pickle\n",
        "with open(\"/content/drive/My Drive/Python Colab/DL_Lesson4/Vandith.pk2\",'wb') as file:\n",
        "      pickle.dump(model,file)"
      ],
      "execution_count": 0,
      "outputs": []
    },
    {
      "cell_type": "code",
      "metadata": {
        "id": "PLO8JfNiAPxq",
        "colab_type": "code",
        "colab": {}
      },
      "source": [
        "x=model.predict_classes(x_train[[50],:])"
      ],
      "execution_count": 0,
      "outputs": []
    },
    {
      "cell_type": "code",
      "metadata": {
        "id": "OcN4HBInCddD",
        "colab_type": "code",
        "outputId": "cf1883e7-6642-4401-b934-abddb0614b77",
        "colab": {
          "base_uri": "https://localhost:8080/",
          "height": 34
        }
      },
      "source": [
        "print(x[0])"
      ],
      "execution_count": 27,
      "outputs": [
        {
          "output_type": "stream",
          "text": [
            "0\n"
          ],
          "name": "stdout"
        }
      ]
    }
  ]
}